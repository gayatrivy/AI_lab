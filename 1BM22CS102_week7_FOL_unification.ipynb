{
  "nbformat": 4,
  "nbformat_minor": 0,
  "metadata": {
    "colab": {
      "provenance": [],
      "authorship_tag": "ABX9TyMjn+tPqCXuPa5S7WDiTYOc",
      "include_colab_link": true
    },
    "kernelspec": {
      "name": "python3",
      "display_name": "Python 3"
    },
    "language_info": {
      "name": "python"
    }
  },
  "cells": [
    {
      "cell_type": "markdown",
      "metadata": {
        "id": "view-in-github",
        "colab_type": "text"
      },
      "source": [
        "<a href=\"https://colab.research.google.com/github/gayatrivy/AI_lab/blob/main/1BM22CS102_week7_FOL_unification.ipynb\" target=\"_parent\"><img src=\"https://colab.research.google.com/assets/colab-badge.svg\" alt=\"Open In Colab\"/></a>"
      ]
    },
    {
      "cell_type": "code",
      "execution_count": 1,
      "metadata": {
        "colab": {
          "base_uri": "https://localhost:8080/"
        },
        "id": "FEqdEKjTLfFL",
        "outputId": "4978cf6e-ae66-4bfe-8ea7-d0137128f3c1"
      },
      "outputs": [
        {
          "output_type": "stream",
          "name": "stdout",
          "text": [
            "Unification successful. Substitution: {'a': ('g', 'y')}\n"
          ]
        }
      ],
      "source": [
        "class UnificationError(Exception):\n",
        "    \"\"\"Custom exception for unification failure.\"\"\"\n",
        "    pass\n",
        "\n",
        "def is_variable(x):\n",
        "    \"\"\"Check if x is a variable (lowercase strings).\"\"\"\n",
        "    return isinstance(x, str) and x.islower()\n",
        "\n",
        "def occurs_check(var, expr, subst):\n",
        "    \"\"\"Check if var occurs in expr with current substitutions.\"\"\"\n",
        "    if var == expr:\n",
        "        return True\n",
        "    elif is_variable(expr) and expr in subst:\n",
        "        return occurs_check(var, subst[expr], subst)\n",
        "    elif isinstance(expr, tuple):\n",
        "        return any(occurs_check(var, sub_expr, subst) for sub_expr in expr)\n",
        "    return False\n",
        "\n",
        "def unify(expr1, expr2, subst=None):\n",
        "    \"\"\"Unify two expressions.\"\"\"\n",
        "    if subst is None:\n",
        "        subst = {}\n",
        "\n",
        "    if expr1 == expr2:\n",
        "        return subst\n",
        "\n",
        "    if is_variable(expr1):\n",
        "        return unify_var(expr1, expr2, subst)\n",
        "    elif is_variable(expr2):\n",
        "        return unify_var(expr2, expr1, subst)\n",
        "    elif isinstance(expr1, tuple) and isinstance(expr2, tuple):\n",
        "        if len(expr1) != len(expr2):\n",
        "            raise UnificationError(\"Arity mismatch\")\n",
        "        for sub_expr1, sub_expr2 in zip(expr1, expr2):\n",
        "            subst = unify(sub_expr1, sub_expr2, subst)\n",
        "        return subst\n",
        "    else:\n",
        "        raise UnificationError(f\"Cannot unify {expr1} with {expr2}\")\n",
        "\n",
        "def unify_var(var, expr, subst):\n",
        "    \"\"\"Unify a variable with an expression.\"\"\"\n",
        "    if var in subst:\n",
        "        return unify(subst[var], expr, subst)\n",
        "    elif expr in subst:\n",
        "        return unify(var, subst[expr], subst)\n",
        "    elif occurs_check(var, expr, subst):\n",
        "        raise UnificationError(f\"Occurs check failed for {var} in {expr}\")\n",
        "    else:\n",
        "        subst[var] = expr\n",
        "        return subst\n",
        "\n",
        "# Example Usage\n",
        "if __name__ == \"__main__\":\n",
        "    try:\n",
        "        expr1 = ('f', 'a', 'a')\n",
        "        expr2 = ('f', ('g', 'y'), 'a')\n",
        "        substitution = unify(expr1, expr2)\n",
        "        print(\"Unification successful. Substitution:\", substitution)\n",
        "    except UnificationError as e:\n",
        "        print(\"Unification failed:\", str(e))"
      ]
    }
  ]
}